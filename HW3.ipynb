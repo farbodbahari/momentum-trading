{
 "cells": [
  {
   "cell_type": "markdown",
   "metadata": {},
   "source": [
    "### Problem 1\n",
    "Momentum model with a window of 3 months and a reversal of 1 month.\n",
    "Long: top decile (equal dollars) and short bottom decile (equal dollars). Equal dollars means that each of the\n",
    "stocks in the decile is long or short the same amount. Since you have 50 stocks, the top decile will be 5 stocks\n",
    "and the bottom decile will be 5 stocks."
   ]
  },
  {
   "cell_type": "markdown",
   "metadata": {},
   "source": [
    "### Problem 2\n",
    "Add diversification. Instead of being long the top decile, be long the top half. 25 stocks long and 25 short."
   ]
  },
  {
   "cell_type": "markdown",
   "metadata": {},
   "source": [
    "### Problem 3\n",
    "Back to top and bottom deciles. However, instead of weighting equal dollars, weight each stock in the long and\n",
    "the short by their volatility over the previous 50 days, so that the long and the short have the same volatility (you\n",
    "choose some arbitrary number like 5% if you need)."
   ]
  },
  {
   "cell_type": "code",
   "execution_count": 1,
   "metadata": {},
   "outputs": [
    {
     "data": {
      "text/html": [
       "<style> .container{width:96% !important;}</style>"
      ],
      "text/plain": [
       "<IPython.core.display.HTML object>"
      ]
     },
     "metadata": {},
     "output_type": "display_data"
    }
   ],
   "source": [
    "import pandas as pd\n",
    "import numpy as np\n",
    "import scipy.stats\n",
    "import datetime as dt\n",
    "pd.options.display.min_rows=1000\n",
    "pd.set_option('display.max_rows', 1000)\n",
    "pd.set_option('display.min_rows', 1000)\n",
    "pd.set_option('display.expand_frame_repr', True)\n",
    "\n",
    "import pypfopt\n",
    "import matplotlib.pyplot as plt\n",
    "import yfinance as yf\n",
    "from pypfopt.expected_returns import mean_historical_return\n",
    "from pypfopt import black_litterman, risk_models\n",
    "from pypfopt.expected_returns import mean_historical_return\n",
    "from pypfopt import EfficientFrontier\n",
    "pd.options.display.float_format = '{:,.5f}'.format\n",
    "from IPython.core.display import display, HTML\n",
    "display(HTML(\"<style> .container{width:96% !important;}</style>\"))\n",
    "pd.options.display.max_rows=150\n",
    "pd.options.display.max_columns=150"
   ]
  },
  {
   "cell_type": "code",
   "execution_count": 2,
   "metadata": {},
   "outputs": [],
   "source": [
    "def VaR_CVaR_Quantile(data_series,\n",
    "                      significance_level):\n",
    "    \"\"\"Return Value at Risk (VaR) and Conditional Value at Risk (CVaR) at significance_level\"\"\"\n",
    "    import scipy.stats\n",
    "    import numpy as np\n",
    "    mean=np.mean(data_series)\n",
    "    std= np.std(data_series)\n",
    "    ### Data Driven VaR CVaR\n",
    "    VaR_Quantile = np.quantile(data_series,significance_level)\n",
    "    return_in_tail_based_on_VaR_Quantile=data_series[data_series<VaR_Quantile]\n",
    "    CVaR_Quantile=(np.mean(return_in_tail_based_on_VaR_Quantile))\n",
    "    return(VaR_Quantile,CVaR_Quantile)"
   ]
  },
  {
   "cell_type": "code",
   "execution_count": 3,
   "metadata": {},
   "outputs": [],
   "source": [
    "def portfolio_stats_computer(portfolio_return_series,\n",
    "                            frequency=252):\n",
    "    \"\"\"This Function is to compute Annualized Return and Volatility of a series given the series and its frequency\n",
    "    VaR and CVaR are at 5%\"\"\"\n",
    "    portfolio_return_series= pd.Series(portfolio_return_series)\n",
    "    cum_return=(1 + portfolio_return_series).prod()\n",
    "    portfolio_annualized_compouded_return = (1 + portfolio_return_series).prod() ** (frequency / portfolio_return_series.count()) - 1\n",
    "    portfolio_annualized_simple_return = portfolio_return_series.mean()*frequency\n",
    "    portfolio_annualized_volatility= portfolio_return_series.std()*np.sqrt(frequency)\n",
    "    portfolio_VaR_05, portfolio_CVaR_05 = VaR_CVaR_Quantile(portfolio_return_series,0.05)\n",
    "    portfolio_sharp_ratio = portfolio_annualized_compouded_return/portfolio_annualized_volatility\n",
    "    \n",
    "    portfolio_kurtosis= scipy.stats.kurtosis(portfolio_return_series)+3\n",
    "    portfolio_skewness= scipy.stats.skew(portfolio_return_series)\n",
    "    \n",
    "    dict_stats={\"Annualized Simple Return\":[portfolio_annualized_simple_return],\n",
    "                \"Annualized Compunded Return\":[portfolio_annualized_compouded_return],\n",
    "                \"Cumulative Return\":[cum_return],\n",
    "                \"Annualized Volatility\":[portfolio_annualized_volatility],\n",
    "                \"Sharp Ratio\":[portfolio_sharp_ratio],\n",
    "                \"Kurtosis\":[portfolio_kurtosis],\n",
    "                \"Skewness\":[portfolio_skewness],\n",
    "                \"VaR 5\":[portfolio_VaR_05],\n",
    "                \"CVaR 5\":[portfolio_CVaR_05]}\n",
    "    return pd.DataFrame(dict_stats)"
   ]
  },
  {
   "cell_type": "code",
   "execution_count": 4,
   "metadata": {},
   "outputs": [],
   "source": [
    "def return_calculator(df_stock_prices,\n",
    "                      return_window=1,\n",
    "                      dropna=True):\n",
    "    \"\"\"apply pct_change(return_window) on the columns of dataframe.\n",
    "    compute return of stocks\"\"\"\n",
    "    df_data=df_stock_prices.copy()\n",
    "    if dropna:\n",
    "        return(df_data.pct_change(return_window).dropna())\n",
    "    return(df_data.pct_change(return_window))"
   ]
  },
  {
   "cell_type": "code",
   "execution_count": 5,
   "metadata": {},
   "outputs": [],
   "source": [
    "def date_assets_trade_signal_genarator(df_stock_prices,\n",
    "                                       return_window=5,\n",
    "                                       number_of_asset_go_long=2,\n",
    "                                       number_of_asset_go_short=2):\n",
    "    \"\"\"compute the winners (highest return) and loosers (lowest return).\n",
    "    df_stock_prices: daily stock price. Index must be datetime\"\"\"\n",
    "    df_stock_return_window = return_calculator(df_stock_prices,\n",
    "                                               return_window)\n",
    "    df_stock_return_window = pd.melt(df_stock_return_window.reset_index(),\n",
    "                          var_name=\"ticker\",\n",
    "                          id_vars=\"Date\",\n",
    "                          value_name=\"Return\")\n",
    "    df_stock_return_window=df_stock_return_window.reset_index()\n",
    "\n",
    "    assset_to_long_index= df_stock_return_window.groupby([\"Date\"])[\"Return\"].apply(\n",
    "        lambda x: pd.Series(x.nlargest(number_of_asset_go_long))).index\n",
    "\n",
    "    assset_to_short_index=df_stock_return_window.groupby([\"Date\"])[\"Return\"].apply(\n",
    "        lambda x: pd.Series(x.nsmallest(number_of_asset_go_short))).index\n",
    "\n",
    "    df_long=df_stock_return_window[df_stock_return_window[['Date','index']].apply(\n",
    "        tuple, axis = 1).isin(assset_to_long_index)].sort_values(\"Date\")\n",
    "\n",
    "    df_short=df_stock_return_window[df_stock_return_window[['Date','index']].apply(\n",
    "        tuple, axis = 1).isin(assset_to_short_index)].sort_values(\"Date\")\n",
    "    #signal_dates =pd.Series(df_long['Date'].drop_duplicates().values)\n",
    "    date_asset_to_go_long = pd.Series(df_long[['Date','ticker']].apply(tuple, axis = 1).values)\n",
    "    date_asset_to_go_short = pd.Series(df_short[['Date','ticker']].apply(tuple, axis = 1).values)\n",
    "    return ({\"date_asset_to_go_long\":date_asset_to_go_long,\n",
    "             \"date_asset_to_go_short\":date_asset_to_go_short})"
   ]
  },
  {
   "cell_type": "code",
   "execution_count": 6,
   "metadata": {},
   "outputs": [],
   "source": [
    "def signal_date_determinator(possible_trading_dates,\n",
    "                             rebalancing_dates,\n",
    "                             reversal=0):\n",
    "    \"\"\"If you want to use the signal to buy/sell, you can use the signals from any day on or before trading day. \n",
    "    Given all the possible trading days and reversal (eg 1 day). We take the signals generated (winners and looser) reversal days prior\n",
    "    from the day making the trade\"\"\"\n",
    "    list_of_signal_dates=[]\n",
    "    for rebalancing_date in rebalancing_dates:\n",
    "        signal_date = possible_trading_dates[possible_trading_dates<=rebalancing_date].values[-1-reversal]\n",
    "        list_of_signal_dates.append(signal_date)\n",
    "    signal_dates = pd.Series(list_of_signal_dates)\n",
    "    trading_dates_signal_dates_dict=dict(zip(rebalancing_dates,signal_dates))\n",
    "    return(trading_dates_signal_dates_dict)"
   ]
  },
  {
   "cell_type": "code",
   "execution_count": 7,
   "metadata": {},
   "outputs": [],
   "source": [
    "def momentum_trading(df_stock_prices,\n",
    "                     return_window=5,\n",
    "                     revesal=0,\n",
    "                     rebalancing_period=10,\n",
    "                     number_of_asset_go_long = 2,\n",
    "                     number_of_asset_go_short = 2):\n",
    "    \"\"\"Buy the winners and short the loosers.\n",
    "    df_stock_prices: daily stock price. Index must be datetime\n",
    "    return_window: the return to generate buy or short signal.\n",
    "    revesal: number of lag for buy and sell signal respective to the retrun window.\n",
    "    number_of_asset_go_long: Number best perfomer asset to go long.\n",
    "    number_of_asset_go_short: Number worst perfomer asset to go short.\n",
    "    rebalancing_period: holding period.rebalancing the portfolio.\"\"\"\n",
    "    possible_trading_dates= pd.Series(sorted(df_stock_prices.index))\n",
    "    ### Rebalancing is possible only after signals are generated\n",
    "    rebalancing_dates = possible_trading_dates[return_window::rebalancing_period]\n",
    "    rebalancing_dates=pd.Series(rebalancing_dates.values)\n",
    "    ### Signal Date Generator\n",
    "    signal_dates=signal_date_determinator(possible_trading_dates=possible_trading_dates,\n",
    "                                          rebalancing_dates=rebalancing_dates,\n",
    "                                          reversal=revesal)\n",
    "\n",
    "    signals = date_assets_trade_signal_genarator(df_stock_prices,\n",
    "                                                 return_window=return_window,\n",
    "                                                 number_of_asset_go_long=number_of_asset_go_long,\n",
    "                                                 number_of_asset_go_short=number_of_asset_go_short)\n",
    "    \n",
    "    date_asset_to_go_long = signals[\"date_asset_to_go_long\"]\n",
    "    date_asset_to_go_short = signals[\"date_asset_to_go_short\"]\n",
    "    \n",
    "    df_stock_return_on_rebalncing_bases = return_calculator(df_stock_prices,\n",
    "                                                          rebalancing_period).reset_index()\n",
    "    #portfolio_trading_dates = pd.Series(df_stock_return_on_rebalncing_bases[\"Date\"].drop_duplicates().values)\n",
    "    \n",
    "    df_stock_return_on_rebalncing_bases = pd.melt(df_stock_return_on_rebalncing_bases,\n",
    "                                                  id_vars=\"Date\",\n",
    "                                                  var_name=\"ticker\",\n",
    "                                                  value_name=\"Return\")\n",
    "    \n",
    "    df_stock_return_on_rebalncing_bases=df_stock_return_on_rebalncing_bases[\n",
    "        df_stock_return_on_rebalncing_bases['Date'].isin(rebalancing_dates)]\n",
    "    \n",
    "    #df_stock_return_on_rebalncing_bases[\"signal_date\"]= df_stock_return_on_rebalncing_bases.groupby(['ticker'])[\"Date\"].shift(revesal+1)\n",
    "    df_stock_return_on_rebalncing_bases[\"trade_date\"]= df_stock_return_on_rebalncing_bases.groupby(['ticker'])[\"Date\"].shift(1)\n",
    "    df_stock_return_on_rebalncing_bases[\"signal_date\"] = df_stock_return_on_rebalncing_bases[\"trade_date\"].replace(signal_dates)\n",
    "    df_stock_return_on_rebalncing_bases= df_stock_return_on_rebalncing_bases.sort_values([\"Date\",\"ticker\"])\n",
    "    \n",
    "    df_stock_return_on_rebalncing_bases[\"Long\"] =  df_stock_return_on_rebalncing_bases[['signal_date','ticker']].apply(\n",
    "        tuple, axis = 1).isin(date_asset_to_go_long)\n",
    "\n",
    "    df_stock_return_on_rebalncing_bases[\"Short\"] =  df_stock_return_on_rebalncing_bases[['signal_date','ticker']].apply(\n",
    "        tuple, axis = 1).isin(date_asset_to_go_short)\n",
    "    df_stock_return_on_rebalncing_bases.dropna(subset=[\"signal_date\"],inplace=True)\n",
    "    df_stock_return_on_rebalncing_bases.reset_index(drop=True,inplace=True)\n",
    "    return(df_stock_return_on_rebalncing_bases)"
   ]
  },
  {
   "cell_type": "markdown",
   "metadata": {},
   "source": [
    "1. \n",
    "Momentum model with a window of 3 months and a reversal of 1 month.\n",
    "Long: top decile (equal dollars) and short bottom decile (equal dollars). Equal dollars means that each of the stocks in the decile is long or short the same amount. Since you have 50 stocks, the top decile will be 5 stocks and the bottom decile will be 5 stocks."
   ]
  },
  {
   "cell_type": "code",
   "execution_count": 8,
   "metadata": {},
   "outputs": [
    {
     "name": "stdout",
     "output_type": "stream",
     "text": [
      "[*********************100%***********************]  52 of 52 completed\n"
     ]
    }
   ],
   "source": [
    "list_of_tickers=list(pd.read_excel('Stock Tickers and Attributes.xlsx')[\"ticker\"])\n",
    "list_of_tickers=list_of_tickers[1:53]\n",
    "#list_of_tickers=[\"SPY\",\"SLY\",\"GLD\",\"FEZ\",\"BABA\"]\n",
    "df_stock_data= yf.download(list_of_tickers,start=dt.datetime(2012,1,15),end=dt.datetime(2020,2,15))\n",
    "df_stock_data=df_stock_data[\"Adj Close\"]\n",
    "### If no price is avaialble for all the asset for a given day, dorp that row\n",
    "df_stock_data.dropna(axis=0,how=\"all\",inplace=True)\n",
    "### Drop the assets that are not available for the whole period\n",
    "df_stock_data.dropna(axis=1,inplace=True)"
   ]
  },
  {
   "cell_type": "markdown",
   "metadata": {},
   "source": [
    "1. \n",
    "Momentum model with a window of 3 months and a reversal of 1 month.\n",
    "Long: top decile (equal dollars) and short bottom decile (equal dollars). Equal dollars means that each of the stocks in the decile is long or short the same amount. Since you have 50 stocks, the top decile will be 5 stocks and the bottom decile will be 5 stocks."
   ]
  },
  {
   "cell_type": "code",
   "execution_count": 9,
   "metadata": {},
   "outputs": [
    {
     "data": {
      "text/html": [
       "<div>\n",
       "<style scoped>\n",
       "    .dataframe tbody tr th:only-of-type {\n",
       "        vertical-align: middle;\n",
       "    }\n",
       "\n",
       "    .dataframe tbody tr th {\n",
       "        vertical-align: top;\n",
       "    }\n",
       "\n",
       "    .dataframe thead th {\n",
       "        text-align: right;\n",
       "    }\n",
       "</style>\n",
       "<table border=\"1\" class=\"dataframe\">\n",
       "  <thead>\n",
       "    <tr style=\"text-align: right;\">\n",
       "      <th></th>\n",
       "      <th>Date</th>\n",
       "      <th>ticker</th>\n",
       "      <th>Return</th>\n",
       "      <th>trade_date</th>\n",
       "      <th>signal_date</th>\n",
       "      <th>Long</th>\n",
       "      <th>Short</th>\n",
       "    </tr>\n",
       "  </thead>\n",
       "  <tbody>\n",
       "    <tr>\n",
       "      <th>0</th>\n",
       "      <td>2012-05-16</td>\n",
       "      <td>AAPL</td>\n",
       "      <td>-0.10435</td>\n",
       "      <td>2012-04-17</td>\n",
       "      <td>2012-03-16</td>\n",
       "      <td>False</td>\n",
       "      <td>False</td>\n",
       "    </tr>\n",
       "    <tr>\n",
       "      <th>1</th>\n",
       "      <td>2012-05-16</td>\n",
       "      <td>ABT</td>\n",
       "      <td>0.03508</td>\n",
       "      <td>2012-04-17</td>\n",
       "      <td>2012-03-16</td>\n",
       "      <td>False</td>\n",
       "      <td>False</td>\n",
       "    </tr>\n",
       "    <tr>\n",
       "      <th>2</th>\n",
       "      <td>2012-05-16</td>\n",
       "      <td>ADBE</td>\n",
       "      <td>-0.04374</td>\n",
       "      <td>2012-04-17</td>\n",
       "      <td>2012-03-16</td>\n",
       "      <td>False</td>\n",
       "      <td>False</td>\n",
       "    </tr>\n",
       "    <tr>\n",
       "      <th>3</th>\n",
       "      <td>2012-05-16</td>\n",
       "      <td>AMZN</td>\n",
       "      <td>0.18934</td>\n",
       "      <td>2012-04-17</td>\n",
       "      <td>2012-03-16</td>\n",
       "      <td>False</td>\n",
       "      <td>False</td>\n",
       "    </tr>\n",
       "    <tr>\n",
       "      <th>4</th>\n",
       "      <td>2012-05-16</td>\n",
       "      <td>BA</td>\n",
       "      <td>-0.01775</td>\n",
       "      <td>2012-04-17</td>\n",
       "      <td>2012-03-16</td>\n",
       "      <td>False</td>\n",
       "      <td>False</td>\n",
       "    </tr>\n",
       "  </tbody>\n",
       "</table>\n",
       "</div>"
      ],
      "text/plain": [
       "        Date ticker   Return trade_date signal_date   Long  Short\n",
       "0 2012-05-16   AAPL -0.10435 2012-04-17  2012-03-16  False  False\n",
       "1 2012-05-16    ABT  0.03508 2012-04-17  2012-03-16  False  False\n",
       "2 2012-05-16   ADBE -0.04374 2012-04-17  2012-03-16  False  False\n",
       "3 2012-05-16   AMZN  0.18934 2012-04-17  2012-03-16  False  False\n",
       "4 2012-05-16     BA -0.01775 2012-04-17  2012-03-16  False  False"
      ]
     },
     "execution_count": 9,
     "metadata": {},
     "output_type": "execute_result"
    }
   ],
   "source": [
    "holding_period = 21\n",
    "return_window = 63 \n",
    "revesal = 21\n",
    "df_portfolio = momentum_trading(df_stock_data,\n",
    "                                return_window=return_window,\n",
    "                                revesal=revesal,\n",
    "                                rebalancing_period= holding_period,\n",
    "                                number_of_asset_go_long = 5,\n",
    "                                number_of_asset_go_short = 5)\n",
    "df_portfolio.head()"
   ]
  },
  {
   "cell_type": "code",
   "execution_count": 10,
   "metadata": {},
   "outputs": [],
   "source": [
    "df_portfolio_return=df_portfolio[(df_portfolio[\"Long\"]==True) | \n",
    "                          (df_portfolio[\"Short\"]==True)].sort_values(\n",
    "    [\"Date\",\"ticker\"]).reset_index(drop=True)\n",
    "\n",
    "df_portfolio_return[\"Trade Return\"]= df_portfolio_return[\"Return\"].copy()\n",
    "df_portfolio_return.loc[df_portfolio_return['Short']==True,\n",
    "                \"Trade Return\"] = df_portfolio_return[\"Trade Return\"]*-1\n",
    "\n",
    "\n",
    "### Get the weight of each asset equally in the portfolio\n",
    "df_portfolio_return=pd.merge(df_portfolio_return,(1/ (df_portfolio_return.groupby([\"Date\"])[\"Long\"].sum() + \n",
    "                                                      df_portfolio_return.groupby([\"Date\"])[\"Short\"].sum())).reset_index(name=\"weight\"),\n",
    "                             left_on='Date',\n",
    "                             right_on='Date',\n",
    "                             how=\"left\")\n",
    "\n",
    "df_portfolio_return[\"Realized Return\"]= df_portfolio_return[\"Trade Return\"] * df_portfolio_return[\"weight\"]"
   ]
  },
  {
   "cell_type": "code",
   "execution_count": 11,
   "metadata": {},
   "outputs": [
    {
     "data": {
      "image/png": "[encoded data removed]",
      "text/plain": [
       "<Figure size 432x288 with 1 Axes>"
      ]
     },
     "metadata": {
      "needs_background": "light"
     },
     "output_type": "display_data"
    },
    {
     "name": "stdout",
     "output_type": "stream",
     "text": [
      "Sum of PNL for $100 on each trade\n",
      " 25.04366059301023\n"
     ]
    },
    {
     "data": {
      "image/png": "[encoded data removed]",
      "text/plain": [
       "<Figure size 1080x288 with 1 Axes>"
      ]
     },
     "metadata": {
      "needs_background": "light"
     },
     "output_type": "display_data"
    },
    {
     "data": {
      "text/html": [
       "<div>\n",
       "<style scoped>\n",
       "    .dataframe tbody tr th:only-of-type {\n",
       "        vertical-align: middle;\n",
       "    }\n",
       "\n",
       "    .dataframe tbody tr th {\n",
       "        vertical-align: top;\n",
       "    }\n",
       "\n",
       "    .dataframe thead th {\n",
       "        text-align: right;\n",
       "    }\n",
       "</style>\n",
       "<table border=\"1\" class=\"dataframe\">\n",
       "  <thead>\n",
       "    <tr style=\"text-align: right;\">\n",
       "      <th></th>\n",
       "      <th>Annualized Simple Return</th>\n",
       "      <th>Annualized Compunded Return</th>\n",
       "      <th>Cumulative Return</th>\n",
       "      <th>Annualized Volatility</th>\n",
       "      <th>Sharp Ratio</th>\n",
       "      <th>Kurtosis</th>\n",
       "      <th>Skewness</th>\n",
       "      <th>VaR 5</th>\n",
       "      <th>CVaR 5</th>\n",
       "    </tr>\n",
       "  </thead>\n",
       "  <tbody>\n",
       "    <tr>\n",
       "      <th>0</th>\n",
       "      <td>0.03267</td>\n",
       "      <td>0.02840</td>\n",
       "      <td>1.23946</td>\n",
       "      <td>0.09737</td>\n",
       "      <td>0.29164</td>\n",
       "      <td>5.73570</td>\n",
       "      <td>0.61034</td>\n",
       "      <td>-0.04182</td>\n",
       "      <td>-0.05036</td>\n",
       "    </tr>\n",
       "  </tbody>\n",
       "</table>\n",
       "</div>"
      ],
      "text/plain": [
       "   Annualized Simple Return  Annualized Compunded Return  Cumulative Return  \\\n",
       "0                   0.03267                      0.02840            1.23946   \n",
       "\n",
       "   Annualized Volatility  Sharp Ratio  Kurtosis  Skewness    VaR 5   CVaR 5  \n",
       "0                0.09737      0.29164   5.73570   0.61034 -0.04182 -0.05036  "
      ]
     },
     "execution_count": 11,
     "metadata": {},
     "output_type": "execute_result"
    }
   ],
   "source": [
    "portfolio_return = df_portfolio_return.groupby([\"Date\"])[\"Realized Return\"].sum()\n",
    "portfolio_return.plot(kind=\"hist\",bins=20)\n",
    "plt.show()\n",
    "\n",
    "print(\"Sum of PNL for $100 on each trade\\n\",(100*portfolio_return).sum())\n",
    "(100*portfolio_return).plot(figsize=(15,4))\n",
    "plt.show()\n",
    "portfolio_stats_computer(portfolio_return,252/holding_period)"
   ]
  },
  {
   "cell_type": "code",
   "execution_count": 27,
   "metadata": {
    "scrolled": true
   },
   "outputs": [
    {
     "name": "stdout",
     "output_type": "stream",
     "text": [
      "Best Month Date\n",
      "2013-02-19   0.12432\n",
      "Name: Realized Return, dtype: float64\n",
      "Worst Month Date\n",
      "2014-04-21   -0.06813\n",
      "Name: Realized Return, dtype: float64\n",
      "Mean Of Returns 0.002722137020979373\n",
      "Std Of Returns 0.028108255227769854\n"
     ]
    }
   ],
   "source": [
    "print(\"Best Month\",portfolio_return.sort_values(ascending=False).head(1))\n",
    "print(\"Worst Month\",portfolio_return.sort_values(ascending=True).head(1))\n",
    "print(\"Mean Of Returns\",portfolio_return.mean())\n",
    "print(\"Std Of Returns\",portfolio_return.std())"
   ]
  },
  {
   "cell_type": "markdown",
   "metadata": {},
   "source": [
    "2. \n",
    "Add diversification. Instead of being long the top decile, be long the top half. 25 stocks long and 25 short."
   ]
  },
  {
   "cell_type": "code",
   "execution_count": 28,
   "metadata": {},
   "outputs": [],
   "source": [
    "holding_period = 21\n",
    "return_window = 63 \n",
    "revesal = 21\n",
    "df_portfolio = momentum_trading(df_stock_data,\n",
    "                                return_window=return_window,\n",
    "                                revesal=revesal,\n",
    "                                rebalancing_period= holding_period,\n",
    "                                number_of_asset_go_long = 25,\n",
    "                                number_of_asset_go_short = 25)\n",
    "\n",
    "\n",
    "df_portfolio_return=df_portfolio[(df_portfolio[\"Long\"]==True) | \n",
    "                          (df_portfolio[\"Short\"]==True)].sort_values(\n",
    "    [\"Date\",\"ticker\"]).reset_index(drop=True)\n",
    "\n",
    "df_portfolio_return[\"Trade Return\"]= df_portfolio_return[\"Return\"].copy()\n",
    "df_portfolio_return.loc[df_portfolio_return['Short']==True,\n",
    "                \"Trade Return\"] = df_portfolio_return[\"Trade Return\"]*-1\n",
    "\n",
    "\n",
    "### Get the weight of each asset equally in the portfolio\n",
    "df_portfolio_return=pd.merge(df_portfolio_return,(1/ (df_portfolio_return.groupby([\"Date\"])[\"Long\"].sum() + \n",
    "                                                      df_portfolio_return.groupby([\"Date\"])[\"Short\"].sum())).reset_index(name=\"weight\"),\n",
    "                             left_on='Date',\n",
    "                             right_on='Date',\n",
    "                             how=\"left\")\n",
    "\n",
    "df_portfolio_return[\"Realized Return\"]=df_portfolio_return[\"Trade Return\"] * df_portfolio_return[\"weight\"]"
   ]
  },
  {
   "cell_type": "code",
   "execution_count": 29,
   "metadata": {},
   "outputs": [
    {
     "data": {
      "image/png": "[encoded data removed]",
      "text/plain": [
       "<Figure size 432x288 with 1 Axes>"
      ]
     },
     "metadata": {
      "needs_background": "light"
     },
     "output_type": "display_data"
    },
    {
     "name": "stdout",
     "output_type": "stream",
     "text": [
      "Sum of PNL for $100 on each trade\n",
      " -1.5987996806367004\n"
     ]
    },
    {
     "data": {
      "image/png": "[encoded data removed]",
      "text/plain": [
       "<Figure size 1080x288 with 1 Axes>"
      ]
     },
     "metadata": {
      "needs_background": "light"
     },
     "output_type": "display_data"
    },
    {
     "data": {
      "text/html": [
       "<div>\n",
       "<style scoped>\n",
       "    .dataframe tbody tr th:only-of-type {\n",
       "        vertical-align: middle;\n",
       "    }\n",
       "\n",
       "    .dataframe tbody tr th {\n",
       "        vertical-align: top;\n",
       "    }\n",
       "\n",
       "    .dataframe thead th {\n",
       "        text-align: right;\n",
       "    }\n",
       "</style>\n",
       "<table border=\"1\" class=\"dataframe\">\n",
       "  <thead>\n",
       "    <tr style=\"text-align: right;\">\n",
       "      <th></th>\n",
       "      <th>Annualized Simple Return</th>\n",
       "      <th>Annualized Compunded Return</th>\n",
       "      <th>Cumulative Return</th>\n",
       "      <th>Annualized Volatility</th>\n",
       "      <th>Sharp Ratio</th>\n",
       "      <th>Kurtosis</th>\n",
       "      <th>Skewness</th>\n",
       "      <th>VaR 5</th>\n",
       "      <th>CVaR 5</th>\n",
       "    </tr>\n",
       "  </thead>\n",
       "  <tbody>\n",
       "    <tr>\n",
       "      <th>0</th>\n",
       "      <td>-0.00209</td>\n",
       "      <td>-0.00261</td>\n",
       "      <td>0.98017</td>\n",
       "      <td>0.03259</td>\n",
       "      <td>-0.08007</td>\n",
       "      <td>3.03669</td>\n",
       "      <td>-0.54811</td>\n",
       "      <td>-0.01832</td>\n",
       "      <td>-0.02186</td>\n",
       "    </tr>\n",
       "  </tbody>\n",
       "</table>\n",
       "</div>"
      ],
      "text/plain": [
       "   Annualized Simple Return  Annualized Compunded Return  Cumulative Return  \\\n",
       "0                  -0.00209                     -0.00261            0.98017   \n",
       "\n",
       "   Annualized Volatility  Sharp Ratio  Kurtosis  Skewness    VaR 5   CVaR 5  \n",
       "0                0.03259     -0.08007   3.03669  -0.54811 -0.01832 -0.02186  "
      ]
     },
     "execution_count": 29,
     "metadata": {},
     "output_type": "execute_result"
    }
   ],
   "source": [
    "portfolio_return = df_portfolio_return.groupby([\"Date\"])[\"Realized Return\"].sum()\n",
    "portfolio_return.plot(kind=\"hist\",bins=20)\n",
    "plt.show()\n",
    "\n",
    "print(\"Sum of PNL for $100 on each trade\\n\",(100*portfolio_return).sum())\n",
    "(100*portfolio_return).plot(figsize=(15,4))\n",
    "plt.show()\n",
    "portfolio_stats_computer(portfolio_return,252/holding_period)"
   ]
  },
  {
   "cell_type": "code",
   "execution_count": 30,
   "metadata": {},
   "outputs": [
    {
     "name": "stdout",
     "output_type": "stream",
     "text": [
      "Best Month Date\n",
      "2013-02-19   0.02053\n",
      "Name: Realized Return, dtype: float64\n",
      "Worst Month Date\n",
      "2019-01-22   -0.02356\n",
      "Name: Realized Return, dtype: float64\n",
      "Mean Of Returns -0.0001737825739822496\n",
      "Std Of Returns 0.0094078081921413\n"
     ]
    }
   ],
   "source": [
    "print(\"Best Month\",portfolio_return.sort_values(ascending=False).head(1))\n",
    "print(\"Worst Month\",portfolio_return.sort_values(ascending=True).head(1))\n",
    "print(\"Mean Of Returns\",portfolio_return.mean())\n",
    "print(\"Std Of Returns\",portfolio_return.std())"
   ]
  },
  {
   "cell_type": "markdown",
   "metadata": {},
   "source": [
    "3. \n",
    "Back to top and bottom deciles. However, instead of weighting equal dollars, weight each stock in the long and the short by their volatility over the previous 50 days, so that the long and the short have the same volatility (you choose some arbitrary number like 5% if you need)."
   ]
  },
  {
   "cell_type": "code",
   "execution_count": 31,
   "metadata": {},
   "outputs": [],
   "source": [
    "from scipy.optimize import minimize\n",
    "\n",
    "def portfolio_vol(weights, covmat):\n",
    "    \"\"\"\n",
    "    Computes the vol of a portfolio from a covariance matrix and constituent weights\n",
    "    weights are a numpy array or N x 1 maxtrix and covmat is an N x N matrix\n",
    "    \"\"\"\n",
    "    vol = (weights.T @ covmat @ weights)**0.5\n",
    "    return vol \n",
    "\n",
    "\n",
    "def risk_contribution(w,cov):\n",
    "    \"\"\"\n",
    "    Compute the contributions to risk of the constituents of a portfolio, given a set of portfolio weights and a covariance matrix\n",
    "    \"\"\"\n",
    "    total_portfolio_var = portfolio_vol(w,cov)**2\n",
    "    # Marginal contribution of each constituent\n",
    "    marginal_contrib = cov@w\n",
    "    risk_contrib = np.multiply(marginal_contrib,w.T)/total_portfolio_var\n",
    "    return risk_contrib\n",
    "\n",
    "def target_risk_contributions(target_risk, cov):\n",
    "    \"\"\"\n",
    "    Returns the weights of the portfolio that gives you the weights such\n",
    "    that the contributions to portfolio risk are as close as possible to\n",
    "    the target_risk, given the covariance matrix\n",
    "    \"\"\"\n",
    "    n = cov.shape[0]\n",
    "    init_guess = np.repeat(1/n, n)\n",
    "    bounds = ((0.0, 1.0),) * n # an N-tuple of 2-tuples!\n",
    "    # construct the constraints\n",
    "    weights_sum_to_1 = {'type': 'eq',\n",
    "                        'fun': lambda weights: np.sum(weights) - 1\n",
    "    }\n",
    "    def msd_risk(weights, target_risk, cov):\n",
    "        \"\"\"\n",
    "        Returns the Mean Squared Difference in risk contributions\n",
    "        between weights and target_risk\n",
    "        \"\"\"\n",
    "        w_contribs = risk_contribution(weights, cov)\n",
    "        return ((w_contribs-target_risk)**2).sum()\n",
    "    \n",
    "    weights = minimize(msd_risk, init_guess,\n",
    "                       args=(target_risk, cov), method='SLSQP',\n",
    "                       options={'disp': False},\n",
    "                       constraints=(weights_sum_to_1,),\n",
    "                       bounds=bounds)\n",
    "    return weights.x\n",
    "\n",
    "def equal_risk_contributions(cov):\n",
    "    \"\"\"\n",
    "    Returns the weights of the portfolio that equalizes the contributions\n",
    "    of the constituents based on the given covariance matrix\n",
    "    \"\"\"\n",
    "    n = cov.shape[0]\n",
    "    return target_risk_contributions(target_risk=np.repeat(1/n,n), cov=cov)"
   ]
  },
  {
   "cell_type": "code",
   "execution_count": 32,
   "metadata": {},
   "outputs": [],
   "source": [
    "### Compute 50 day rolling COV matrix\n",
    "df_rolling_cov = return_calculator(df_stock_data).rolling(50).cov().dropna()"
   ]
  },
  {
   "cell_type": "code",
   "execution_count": 33,
   "metadata": {},
   "outputs": [],
   "source": [
    "### Compute returns of the strategy\n",
    "holding_period= 21\n",
    "return_window = 63 \n",
    "revesal = 21\n",
    "df_portfolio = momentum_trading(df_stock_data,\n",
    "                                return_window=return_window,\n",
    "                                revesal=revesal,\n",
    "                                rebalancing_period= holding_period,\n",
    "                                number_of_asset_go_long = 5,\n",
    "                                number_of_asset_go_short = 5)\n",
    "\n",
    "df_portfolio_return=df_portfolio[(df_portfolio[\"Long\"]==True) | \n",
    "                          (df_portfolio[\"Short\"]==True)].sort_values(\n",
    "    [\"Date\",\"ticker\"]).reset_index(drop=True)\n",
    "\n",
    "df_portfolio_return[\"Trade Return\"]= df_portfolio_return[\"Return\"].copy()\n",
    "df_portfolio_return.loc[df_portfolio_return['Short']==True,\n",
    "                \"Trade Return\"] = df_portfolio_return[\"Trade Return\"]*-1\n",
    "\n",
    "\n",
    "list_of_trading_days= sorted(list(set(df_portfolio_return[\"trade_date\"])))"
   ]
  },
  {
   "cell_type": "markdown",
   "metadata": {},
   "source": [
    "### Get the weights which would result in equal risk contribution form each asset"
   ]
  },
  {
   "cell_type": "code",
   "execution_count": 34,
   "metadata": {},
   "outputs": [],
   "source": [
    "list_of_asset_weights_for_eqaul_risk_on_traindg_date= []\n",
    "for trading_date in list_of_trading_days:\n",
    "    df_portfolio_return_sub = df_portfolio_return[df_portfolio_return['trade_date']==trading_date]\n",
    "\n",
    "    df_rolling_cov_sub = df_rolling_cov[df_rolling_cov.index.isin(tuple(zip(df_portfolio_return_sub[\"Date\"],\n",
    "                                                                            df_portfolio_return_sub[\"ticker\"])))][\n",
    "        list(df_portfolio_return_sub[\"ticker\"])]\n",
    "\n",
    "    df_equal_risk_on_trading_date=pd.DataFrame({\"ticker\":df_rolling_cov_sub.columns,\n",
    "                                                \"weight\":equal_risk_contributions(df_rolling_cov_sub)})\n",
    "    df_equal_risk_on_trading_date[\"trade_date\"] = trading_date\n",
    "    list_of_asset_weights_for_eqaul_risk_on_traindg_date.append(df_equal_risk_on_trading_date)\n",
    "    \n",
    "df_equal_risk_on_trading_date=pd.concat(list_of_asset_weights_for_eqaul_risk_on_traindg_date,\n",
    "                                        ignore_index=True)\n",
    "### Merge the weights with equal risk contribution \n",
    "df_portfolio_return=pd.merge(df_portfolio_return,\n",
    "                     df_equal_risk_on_trading_date,\n",
    "                     left_on=[\"ticker\",\"trade_date\"],\n",
    "                     right_on=[\"ticker\",\"trade_date\"],\n",
    "                     how=\"left\")"
   ]
  },
  {
   "cell_type": "code",
   "execution_count": 35,
   "metadata": {},
   "outputs": [
    {
     "data": {
      "text/html": [
       "<div>\n",
       "<style scoped>\n",
       "    .dataframe tbody tr th:only-of-type {\n",
       "        vertical-align: middle;\n",
       "    }\n",
       "\n",
       "    .dataframe tbody tr th {\n",
       "        vertical-align: top;\n",
       "    }\n",
       "\n",
       "    .dataframe thead th {\n",
       "        text-align: right;\n",
       "    }\n",
       "</style>\n",
       "<table border=\"1\" class=\"dataframe\">\n",
       "  <thead>\n",
       "    <tr style=\"text-align: right;\">\n",
       "      <th></th>\n",
       "      <th>Date</th>\n",
       "      <th>ticker</th>\n",
       "      <th>Return</th>\n",
       "      <th>trade_date</th>\n",
       "      <th>signal_date</th>\n",
       "      <th>Long</th>\n",
       "      <th>Short</th>\n",
       "      <th>Trade Return</th>\n",
       "      <th>weight</th>\n",
       "    </tr>\n",
       "  </thead>\n",
       "  <tbody>\n",
       "    <tr>\n",
       "      <th>0</th>\n",
       "      <td>2012-06-15</td>\n",
       "      <td>AAPL</td>\n",
       "      <td>0.05137</td>\n",
       "      <td>2012-05-16</td>\n",
       "      <td>2012-04-17</td>\n",
       "      <td>True</td>\n",
       "      <td>False</td>\n",
       "      <td>0.05137</td>\n",
       "      <td>0.07250</td>\n",
       "    </tr>\n",
       "    <tr>\n",
       "      <th>1</th>\n",
       "      <td>2012-06-15</td>\n",
       "      <td>BAC</td>\n",
       "      <td>0.11261</td>\n",
       "      <td>2012-05-16</td>\n",
       "      <td>2012-04-17</td>\n",
       "      <td>True</td>\n",
       "      <td>False</td>\n",
       "      <td>0.11261</td>\n",
       "      <td>0.04656</td>\n",
       "    </tr>\n",
       "    <tr>\n",
       "      <th>2</th>\n",
       "      <td>2012-06-15</td>\n",
       "      <td>CRM</td>\n",
       "      <td>-0.01479</td>\n",
       "      <td>2012-05-16</td>\n",
       "      <td>2012-04-17</td>\n",
       "      <td>True</td>\n",
       "      <td>False</td>\n",
       "      <td>-0.01479</td>\n",
       "      <td>0.06957</td>\n",
       "    </tr>\n",
       "    <tr>\n",
       "      <th>3</th>\n",
       "      <td>2012-06-15</td>\n",
       "      <td>CVX</td>\n",
       "      <td>0.04226</td>\n",
       "      <td>2012-05-16</td>\n",
       "      <td>2012-04-17</td>\n",
       "      <td>False</td>\n",
       "      <td>True</td>\n",
       "      <td>-0.04226</td>\n",
       "      <td>0.09867</td>\n",
       "    </tr>\n",
       "    <tr>\n",
       "      <th>4</th>\n",
       "      <td>2012-06-15</td>\n",
       "      <td>GOOG</td>\n",
       "      <td>-0.10243</td>\n",
       "      <td>2012-05-16</td>\n",
       "      <td>2012-04-17</td>\n",
       "      <td>False</td>\n",
       "      <td>True</td>\n",
       "      <td>0.10243</td>\n",
       "      <td>0.11058</td>\n",
       "    </tr>\n",
       "  </tbody>\n",
       "</table>\n",
       "</div>"
      ],
      "text/plain": [
       "        Date ticker   Return trade_date signal_date   Long  Short  \\\n",
       "0 2012-06-15   AAPL  0.05137 2012-05-16  2012-04-17   True  False   \n",
       "1 2012-06-15    BAC  0.11261 2012-05-16  2012-04-17   True  False   \n",
       "2 2012-06-15    CRM -0.01479 2012-05-16  2012-04-17   True  False   \n",
       "3 2012-06-15    CVX  0.04226 2012-05-16  2012-04-17  False   True   \n",
       "4 2012-06-15   GOOG -0.10243 2012-05-16  2012-04-17  False   True   \n",
       "\n",
       "   Trade Return  weight  \n",
       "0       0.05137 0.07250  \n",
       "1       0.11261 0.04656  \n",
       "2      -0.01479 0.06957  \n",
       "3      -0.04226 0.09867  \n",
       "4       0.10243 0.11058  "
      ]
     },
     "execution_count": 35,
     "metadata": {},
     "output_type": "execute_result"
    }
   ],
   "source": [
    "df_portfolio_return.head()"
   ]
  },
  {
   "cell_type": "code",
   "execution_count": 36,
   "metadata": {},
   "outputs": [],
   "source": [
    "df_portfolio_return[\"Realized Return\"]=df_portfolio_return[\"Trade Return\"] * df_portfolio_return[\"weight\"]"
   ]
  },
  {
   "cell_type": "code",
   "execution_count": 37,
   "metadata": {},
   "outputs": [
    {
     "data": {
      "image/png": "[encoded data removed]",
      "text/plain": [
       "<Figure size 432x288 with 1 Axes>"
      ]
     },
     "metadata": {
      "needs_background": "light"
     },
     "output_type": "display_data"
    },
    {
     "name": "stdout",
     "output_type": "stream",
     "text": [
      "Sum of PNL for $100 on each trade\n",
      " 14.391835643053554\n"
     ]
    },
    {
     "data": {
      "image/png": "[encoded data removed]",
      "text/plain": [
       "<Figure size 1080x288 with 1 Axes>"
      ]
     },
     "metadata": {
      "needs_background": "light"
     },
     "output_type": "display_data"
    },
    {
     "data": {
      "text/html": [
       "<div>\n",
       "<style scoped>\n",
       "    .dataframe tbody tr th:only-of-type {\n",
       "        vertical-align: middle;\n",
       "    }\n",
       "\n",
       "    .dataframe tbody tr th {\n",
       "        vertical-align: top;\n",
       "    }\n",
       "\n",
       "    .dataframe thead th {\n",
       "        text-align: right;\n",
       "    }\n",
       "</style>\n",
       "<table border=\"1\" class=\"dataframe\">\n",
       "  <thead>\n",
       "    <tr style=\"text-align: right;\">\n",
       "      <th></th>\n",
       "      <th>Annualized Simple Return</th>\n",
       "      <th>Annualized Compunded Return</th>\n",
       "      <th>Cumulative Return</th>\n",
       "      <th>Annualized Volatility</th>\n",
       "      <th>Sharp Ratio</th>\n",
       "      <th>Kurtosis</th>\n",
       "      <th>Skewness</th>\n",
       "      <th>VaR 5</th>\n",
       "      <th>CVaR 5</th>\n",
       "    </tr>\n",
       "  </thead>\n",
       "  <tbody>\n",
       "    <tr>\n",
       "      <th>0</th>\n",
       "      <td>0.01877</td>\n",
       "      <td>0.01580</td>\n",
       "      <td>1.12770</td>\n",
       "      <td>0.07912</td>\n",
       "      <td>0.19969</td>\n",
       "      <td>3.63443</td>\n",
       "      <td>0.15196</td>\n",
       "      <td>-0.03513</td>\n",
       "      <td>-0.04337</td>\n",
       "    </tr>\n",
       "  </tbody>\n",
       "</table>\n",
       "</div>"
      ],
      "text/plain": [
       "   Annualized Simple Return  Annualized Compunded Return  Cumulative Return  \\\n",
       "0                   0.01877                      0.01580            1.12770   \n",
       "\n",
       "   Annualized Volatility  Sharp Ratio  Kurtosis  Skewness    VaR 5   CVaR 5  \n",
       "0                0.07912      0.19969   3.63443   0.15196 -0.03513 -0.04337  "
      ]
     },
     "execution_count": 37,
     "metadata": {},
     "output_type": "execute_result"
    }
   ],
   "source": [
    "portfolio_return = df_portfolio_return.groupby([\"Date\"])[\"Realized Return\"].sum()\n",
    "portfolio_return.plot(kind=\"hist\",bins=20)\n",
    "plt.show()\n",
    "\n",
    "print(\"Sum of PNL for $100 on each trade\\n\",(100*portfolio_return).sum())\n",
    "(100*portfolio_return).plot(figsize=(15,4))\n",
    "plt.show()\n",
    "portfolio_stats_computer(portfolio_return,252/holding_period)"
   ]
  },
  {
   "cell_type": "code",
   "execution_count": 39,
   "metadata": {
    "scrolled": true
   },
   "outputs": [
    {
     "name": "stdout",
     "output_type": "stream",
     "text": [
      "Best Month Date\n",
      "2013-02-19   0.07277\n",
      "Name: Realized Return, dtype: float64\n",
      "Worst Month Date\n",
      "2014-04-21   -0.06228\n",
      "Name: Realized Return, dtype: float64\n",
      "Mean Of Returns 0.0015643299612014736\n",
      "Std Of Returns 0.022839166882609858\n"
     ]
    }
   ],
   "source": [
    "print(\"Best Month\",portfolio_return.sort_values(ascending=False).head(1))\n",
    "print(\"Worst Month\",portfolio_return.sort_values(ascending=True).head(1))\n",
    "print(\"Mean Of Returns\",portfolio_return.mean())\n",
    "print(\"Std Of Returns\",portfolio_return.std())"
   ]
  },
  {
   "cell_type": "code",
   "execution_count": null,
   "metadata": {},
   "outputs": [],
   "source": []
  },
  {
   "cell_type": "code",
   "execution_count": null,
   "metadata": {},
   "outputs": [],
   "source": []
  },
  {
   "cell_type": "code",
   "execution_count": null,
   "metadata": {},
   "outputs": [],
   "source": []
  },
  {
   "cell_type": "code",
   "execution_count": null,
   "metadata": {},
   "outputs": [],
   "source": []
  },
  {
   "cell_type": "code",
   "execution_count": null,
   "metadata": {},
   "outputs": [],
   "source": []
  }
 ],
 "metadata": {
  "kernelspec": {
   "display_name": "Python 3",
   "language": "python",
   "name": "python3"
  },
  "language_info": {
   "codemirror_mode": {
    "name": "ipython",
    "version": 3
   },
   "file_extension": ".py",
   "mimetype": "text/x-python",
   "name": "python",
   "nbconvert_exporter": "python",
   "pygments_lexer": "ipython3",
   "version": "3.6.10"
  }
 },
 "nbformat": 4,
 "nbformat_minor": 4
}
